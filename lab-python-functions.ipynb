{
 "cells": [
  {
   "cell_type": "markdown",
   "id": "25d7736c-ba17-4aff-b6bb-66eba20fbf4e",
   "metadata": {},
   "source": [
    "# Lab | Functions"
   ]
  },
  {
   "cell_type": "markdown",
   "id": "0c581062-8967-4d93-b06e-62833222f930",
   "metadata": {
    "tags": []
   },
   "source": [
    "## Exercise: Managing Customer Orders with Functions\n",
    "\n",
    "In the previous exercise, you improved the code for managing customer orders by using loops and flow control. Now, let's take it a step further and refactor the code by introducing functions.\n",
    "\n",
    "Follow the steps below to complete the exercise:\n",
    "\n",
    "1. Define a function named `initialize_inventory` that takes `products` as a parameter. Inside the function, implement the code for initializing the inventory dictionary using a loop and user input.\n",
    "\n",
    "2. Define a function named `get_customer_orders` that takes no parameters. Inside the function, implement the code for prompting the user to enter the product names using a loop. The function should return the `customer_orders` set.\n",
    "\n",
    "3. Define a function named `update_inventory` that takes `customer_orders` and `inventory` as parameters. Inside the function, implement the code for updating the inventory dictionary based on the customer orders.\n",
    "\n",
    "4. Define a function named `calculate_order_statistics` that takes `customer_orders` and `products` as parameters. Inside the function, implement the code for calculating the order statistics (total products ordered, and percentage of unique products ordered). The function should return these values.\n",
    "\n",
    "5. Define a function named `print_order_statistics` that takes `order_statistics` as a parameter. Inside the function, implement the code for printing the order statistics.\n",
    "\n",
    "6. Define a function named `print_updated_inventory` that takes `inventory` as a parameter. Inside the function, implement the code for printing the updated inventory.\n",
    "\n",
    "7. Call the functions in the appropriate sequence to execute the program and manage customer orders.\n",
    "\n",
    "Hints for functions:\n",
    "\n",
    "- Consider the input parameters required for each function and their return values.\n",
    "- Utilize function parameters and return values to transfer data between functions.\n",
    "- Test your functions individually to ensure they work correctly.\n",
    "\n",
    "\n"
   ]
  },
  {
   "cell_type": "code",
   "execution_count": null,
   "id": "ace1f04b",
   "metadata": {},
   "outputs": [],
   "source": [
    "1. Define a function named `initialize_inventory` that takes `products` as a parameter. Inside the function, implement the code for initializing the inventory dictionary using a loop and user input."
   ]
  },
  {
   "cell_type": "code",
   "execution_count": 26,
   "id": "9da8a93c",
   "metadata": {},
   "outputs": [],
   "source": [
    "products = [\"apple\", \"banana\", \"coco\"]"
   ]
  },
  {
   "cell_type": "code",
   "execution_count": null,
   "id": "588f78dc",
   "metadata": {},
   "outputs": [],
   "source": [
    "def initialize_inventory(products):\n",
    "    inventory = {}\n",
    "    for product in products:\n",
    "        inventory[product] = int(input(f\"Enter the quantity for {product}\"))\n",
    "    return inventory"
   ]
  },
  {
   "cell_type": "code",
   "execution_count": 31,
   "id": "9dee44df",
   "metadata": {},
   "outputs": [],
   "source": [
    "inventory= initialize_inventory(products)\n"
   ]
  },
  {
   "cell_type": "code",
   "execution_count": 32,
   "id": "94b053cb",
   "metadata": {},
   "outputs": [
    {
     "data": {
      "text/plain": [
       "{'apple': 5, 'banana': 5, 'coco': 5}"
      ]
     },
     "execution_count": 32,
     "metadata": {},
     "output_type": "execute_result"
    }
   ],
   "source": [
    "inventory\n"
   ]
  },
  {
   "cell_type": "code",
   "execution_count": null,
   "id": "fe1afaa0",
   "metadata": {},
   "outputs": [],
   "source": [
    "2. Inside the function, implement the code for prompting the user to enter the product names using a loop. The function should return the `customer_orders` set."
   ]
  },
  {
   "cell_type": "code",
   "execution_count": 1,
   "id": "f883a262",
   "metadata": {},
   "outputs": [],
   "source": [
    "def get_customer_orders():\n",
    "    customer_orders = set()\n",
    "    while True:\n",
    "        product=input('What product do you want to order? ')\n",
    "        product=input('Do you want to order another product? (yes/no) ') == 'yes'\n",
    "        customer_orders.add(product)\n",
    "        break\n",
    "    return customer_orders \n",
    "\n",
    "        \n",
    "        "
   ]
  },
  {
   "cell_type": "code",
   "execution_count": null,
   "id": "b1cbefc9",
   "metadata": {},
   "outputs": [],
   "source": [
    "def get_customer_orders():\n",
    "    customer_orders = set()\n",
    "    continue_ordering = True\n",
    "    while continue_ordering == True:\n",
    "        product = input(\"¿Qué producto quieres?:\")\n",
    "        if product not in inventory:\n",
    "            print(\"Ese producto no está disponible\")\n",
    "            continue\n",
    "        else:\n",
    "            customer_orders.add(product)\n",
    "        \n",
    "        another_product = input(\"Quieres pedir otro producto? (Si o No):\")\n",
    "        if another_product.lower() != \"si\":\n",
    "            continue_ordering = False\n",
    "    return customer_orders"
   ]
  },
  {
   "cell_type": "code",
   "execution_count": 2,
   "id": "e2199e4a",
   "metadata": {},
   "outputs": [
    {
     "data": {
      "text/plain": [
       "{False}"
      ]
     },
     "execution_count": 2,
     "metadata": {},
     "output_type": "execute_result"
    }
   ],
   "source": [
    "get_customer_orders ()\n",
    "\n"
   ]
  },
  {
   "cell_type": "code",
   "execution_count": null,
   "id": "6b867983",
   "metadata": {},
   "outputs": [],
   "source": [
    "3#. Define a function named `update_inventory` that takes `customer_orders` and `inventory` as parameters. Inside the function, implement the code for updating the inventory dictionary based on the customer orders."
   ]
  },
  {
   "cell_type": "code",
   "execution_count": null,
   "id": "76b379dc",
   "metadata": {},
   "outputs": [],
   "source": [
    "def update_inventory(customer_orders, inventory):\n",
    "    for order in customer_orders:\n",
    "        if order in inventory:\n",
    "            inventory[order] -= 1\n",
    "            if inventory[order] == 0:\n",
    "                del inventory[order]    \n",
    "        else:\n",
    "            print(f\"Lo siento, no tenemos {order} en inventario.\")\n",
    "    return inventory    \n"
   ]
  },
  {
   "cell_type": "code",
   "execution_count": null,
   "id": "e7c0e777",
   "metadata": {},
   "outputs": [],
   "source": [
    "#4. Define a function named `calculate_order_statistics` that takes `customer_orders` and `products` as parameters. Inside the function, implement the code for calculating the order statistics (total products ordered, and percentage of unique products ordered). The function should return these values."
   ]
  },
  {
   "cell_type": "code",
   "execution_count": 9,
   "id": "6f95491b",
   "metadata": {},
   "outputs": [],
   "source": [
    "def calculate_order_statistics(customer_orders, products):\n",
    "    if not customer_orders:\n",
    "        return 0, 0, 0\n",
    "    total_products_ordered = len(customer_orders)   \n",
    "    unique_products_ordered = len(set(customer_orders))\n",
    "    percentage_unique_products = (unique_products_ordered / total_products_ordered) * 100 if total_products_ordered > 0 else 0\n",
    "    return total_products_ordered, unique_products_ordered, percentage_unique_products\n"
   ]
  },
  {
   "cell_type": "code",
   "execution_count": null,
   "id": "8570363b",
   "metadata": {},
   "outputs": [],
   "source": [
    "#5. Define a function named `print_order_statistics` that takes `order_statistics` as a parameter. Inside the function, implement the code for printing the order statistics."
   ]
  },
  {
   "cell_type": "code",
   "execution_count": 8,
   "id": "76a14262",
   "metadata": {},
   "outputs": [],
   "source": [
    "def print_order_statistics(order_statistics):\n",
    "    print(\"Estadísticas de pedidos:\")\n",
    "    for product, quantity in order_statistics.items():\n",
    "        print(f\"{product}: {quantity} unidades\")\n",
    "    return order_statistics"
   ]
  },
  {
   "cell_type": "code",
   "execution_count": 7,
   "id": "cd6d258f",
   "metadata": {},
   "outputs": [
    {
     "ename": "SyntaxError",
     "evalue": "invalid character '·' (U+00B7) (774820953.py, line 1)",
     "output_type": "error",
     "traceback": [
      "  \u001b[36mCell\u001b[39m\u001b[36m \u001b[39m\u001b[32mIn[7]\u001b[39m\u001b[32m, line 1\u001b[39m\n\u001b[31m    \u001b[39m\u001b[31m·#6. Define a function named `print_updated_inventory` that takes `inventory` as a parameter. Inside the function, implement the code for printing the updated inventory.\u001b[39m\n    ^\n\u001b[31mSyntaxError\u001b[39m\u001b[31m:\u001b[39m invalid character '·' (U+00B7)\n"
     ]
    }
   ],
   "source": [
    "·#6. Define a function named `print_updated_inventory` that takes `inventory` as a parameter. Inside the function, implement the code for printing the updated inventory.\n",
    "\n",
    "def print_updated_inventory(inventory):\n",
    "    print(\"Inventario actualizado:\")\n",
    "    for product, quantity in inventory.items():\n",
    "        print(f\"{product}: {quantity} unidades\")\n",
    "    return inventory"
   ]
  },
  {
   "cell_type": "code",
   "execution_count": null,
   "id": "a2c196a5",
   "metadata": {},
   "outputs": [],
   "source": [
    "#7. Call the functions in the appropriate sequence to execute the program and manage customer orders.\n",
    "Hints for functions:\n",
    "- Consider the input parameters required for each function and their return values.\n",
    "- Utilize function parameters and return values to transfer data between functions.\n",
    "- Test your functions individually to ensure they work correctly.\n",
    "\n",
    "\n"
   ]
  },
  {
   "cell_type": "code",
   "execution_count": null,
   "id": "a8e2142e",
   "metadata": {},
   "outputs": [],
   "source": [
    "def main():\n",
    "    inventory = initialize_inventory(products)\n",
    "    customer_orders = get_customer_orders()\n",
    "    updated_inventory = update_inventory(customer_orders, inventory)\n",
    "    print_order_statistics(customer_orders)\n",
    "    print_updated_inventory(updated_inventory)\n"
   ]
  }
 ],
 "metadata": {
  "kernelspec": {
   "display_name": "venv",
   "language": "python",
   "name": "python3"
  },
  "language_info": {
   "codemirror_mode": {
    "name": "ipython",
    "version": 3
   },
   "file_extension": ".py",
   "mimetype": "text/x-python",
   "name": "python",
   "nbconvert_exporter": "python",
   "pygments_lexer": "ipython3",
   "version": "3.13.2"
  }
 },
 "nbformat": 4,
 "nbformat_minor": 5
}
